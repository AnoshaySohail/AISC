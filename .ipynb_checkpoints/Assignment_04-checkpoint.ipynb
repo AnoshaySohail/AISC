{
 "cells": [
  {
   "cell_type": "markdown",
   "id": "841a47c9-a982-4bcc-af7b-64b1e9bb59e2",
   "metadata": {},
   "source": [
    "# Assignment # 4"
   ]
  },
  {
   "cell_type": "markdown",
   "id": "af743862-d0fe-46bd-8c64-4f9dc4f9b1ba",
   "metadata": {},
   "source": [
    "### Q1. Make a calculator using Python with addition , subtraction , multiplication ,division and power."
   ]
  },
  {
   "cell_type": "code",
   "execution_count": 1,
   "id": "14d8b883-3250-4374-a943-852fc82751fc",
   "metadata": {},
   "outputs": [
    {
     "name": "stdin",
     "output_type": "stream",
     "text": [
      "Enter a digit 3\n",
      "Enter another digit 2\n",
      "Choose the function to be performed.\n",
      "1. + (Addition)\n",
      "2. - (Subtraction)\n",
      "3. * (Multiplication)\n",
      "4. / (Division)\n",
      "5. ** (Power)\n",
      " 5\n"
     ]
    },
    {
     "name": "stdout",
     "output_type": "stream",
     "text": [
      "9\n"
     ]
    }
   ],
   "source": [
    "num1 = int(input(\"Enter a digit\"))\n",
    "num2 = int(input(\"Enter another digit\"))\n",
    "func = input(\"Choose the function to be performed.\\n1. + (Addition)\\n2. - (Subtraction)\\n3. * (Multiplication)\\n4. / (Division)\\n5. ** (Power)\\n\")\n",
    "\n",
    "if func == \"1\":\n",
    "    print(num1+num2)\n",
    "elif func == \"2\":\n",
    "    print(num1-num2)\n",
    "elif func == \"3\":\n",
    "    print(num1*num2)\n",
    "elif func == \"4\":\n",
    "    print(num1/num2)\n",
    "elif func == \"5\":\n",
    "    print(num1**num2)\n",
    "else:\n",
    "    print(\"Enter a valid number.\")"
   ]
  },
  {
   "cell_type": "markdown",
   "id": "ad812e24-5545-4f3b-8062-d68b80112afc",
   "metadata": {},
   "source": [
    "### Q2. Write a program to check if there is any numeric value in list using for loop. "
   ]
  },
  {
   "cell_type": "code",
   "execution_count": 2,
   "id": "fc200efc-f889-4898-abc6-deb09291eef2",
   "metadata": {},
   "outputs": [
    {
     "name": "stdout",
     "output_type": "stream",
     "text": [
      "Numeric Values in the list:\n",
      "\n",
      "42\n",
      "3.14\n",
      "42\n",
      "3.14\n",
      "7\n"
     ]
    }
   ],
   "source": [
    "alist = [42, \"apple\", 3.14, True, \"banana\", 42, False, 3.14, \"orange\", 7]\n",
    "\n",
    "print(\"Numeric Values in the list:\\n\")\n",
    "\n",
    "\n",
    "for num in alist:\n",
    "    if isinstance(num, (int, float)) and not isinstance(num, (bool)):\n",
    "        print(num)"
   ]
  },
  {
   "cell_type": "markdown",
   "id": "afb009d5-1f71-4cca-85d3-95537ec86ac2",
   "metadata": {},
   "source": [
    "### Q3. Write a Python script to add a key to a dictionary."
   ]
  },
  {
   "cell_type": "code",
   "execution_count": 3,
   "id": "2b5df010-6d67-44a2-b5e9-4b02ac7b81be",
   "metadata": {},
   "outputs": [
    {
     "data": {
      "text/plain": [
       "{'name': 'John',\n",
       " 'age': 28,\n",
       " 'height': 5.9,\n",
       " 'is_student': False,\n",
       " 'grades': [88, 92, 79],\n",
       " 'city': 'Lahore',\n",
       " 'hobbies': ['reading', 'football', 'gaming']}"
      ]
     },
     "execution_count": 3,
     "metadata": {},
     "output_type": "execute_result"
    }
   ],
   "source": [
    "random_dict = {\n",
    "    \"name\": \"John\",\n",
    "    \"age\": 28,\n",
    "    \"height\": 5.9,\n",
    "    \"is_student\": False,\n",
    "    \"grades\": [88, 92, 79],\n",
    "    \"city\": \"Lahore\",\n",
    "    \"hobbies\": [\"reading\", \"football\", \"gaming\"]\n",
    "}\n",
    "\n",
    "random_dict"
   ]
  },
  {
   "cell_type": "code",
   "execution_count": 4,
   "id": "c24c49c4-4a3c-41ec-a5a6-2890b89c935f",
   "metadata": {},
   "outputs": [
    {
     "data": {
      "text/plain": [
       "{'name': 'John',\n",
       " 'age': 28,\n",
       " 'height': 5.9,\n",
       " 'is_student': False,\n",
       " 'grades': [88, 92, 79],\n",
       " 'city': 'Lahore',\n",
       " 'hobbies': ['reading', 'football', 'gaming'],\n",
       " 'family members': 5}"
      ]
     },
     "execution_count": 4,
     "metadata": {},
     "output_type": "execute_result"
    }
   ],
   "source": [
    "random_dict[\"family members\"] = 5\n",
    "\n",
    "random_dict"
   ]
  },
  {
   "cell_type": "markdown",
   "id": "ee90b976-4f8e-4eef-ae73-443e0045dd7b",
   "metadata": {},
   "source": [
    "### Q4. Write a Python program to sum all the numeric items in a dictionary. "
   ]
  },
  {
   "cell_type": "code",
   "execution_count": 5,
   "id": "34f599a3-75cf-487e-9df5-36dbad4039ec",
   "metadata": {},
   "outputs": [
    {
     "name": "stdout",
     "output_type": "stream",
     "text": [
      "125.9\n"
     ]
    }
   ],
   "source": [
    "random_dict = {\n",
    "    \"name\": \"John\",\n",
    "    \"age\": 28,\n",
    "    \"height\": 5.9,\n",
    "    \"grade\": 92,\n",
    "    \"city\": \"Lahore\",\n",
    "    \"hobbies\": [\"reading\", \"football\", \"gaming\"]\n",
    "}\n",
    "\n",
    "total = 0\n",
    "for val in random_dict.values():\n",
    "    if isinstance(val, (int,float)):\n",
    "        total += val\n",
    "\n",
    "print(total)"
   ]
  },
  {
   "cell_type": "markdown",
   "id": "6ac9eeca-69b7-4b51-a3b4-17753f32bf85",
   "metadata": {},
   "source": [
    "### Q5. Write a program to identify duplicate values from list. "
   ]
  },
  {
   "cell_type": "code",
   "execution_count": 6,
   "id": "e85ce2da-5dcf-4062-b186-1e0a12363182",
   "metadata": {},
   "outputs": [
    {
     "name": "stdout",
     "output_type": "stream",
     "text": [
      "Duplicate values {42, 3.14, 'apple'}\n"
     ]
    }
   ],
   "source": [
    "xlist = [42, \"apple\", 3.14, True, \"banana\", 42, False, 3.14, \"orange\", 7, \"apple\"]\n",
    "\n",
    "duplicates = set()\n",
    "seen = set()\n",
    "\n",
    "for item in xlist:\n",
    "    if item in seen:\n",
    "        duplicates.add(item)\n",
    "    else:\n",
    "        seen.add(item)\n",
    "\n",
    "print(\"Duplicate values\", duplicates)"
   ]
  },
  {
   "cell_type": "markdown",
   "id": "2b4c3d31-97c6-4df3-aa59-e82d2b0d73bc",
   "metadata": {},
   "source": [
    "### Q6. Write a Python script to check if a given key already exists in a dictionary"
   ]
  },
  {
   "cell_type": "code",
   "execution_count": 7,
   "id": "6f71907f-585d-47d6-9703-826ce9d868e5",
   "metadata": {},
   "outputs": [
    {
     "name": "stdout",
     "output_type": "stream",
     "text": [
      "Exists\n"
     ]
    }
   ],
   "source": [
    "random_dict = {\n",
    "    \"name\": \"John\",\n",
    "    \"age\": 28,\n",
    "    \"height\": 5.9,\n",
    "    \"is_student\": False,\n",
    "    \"grades\": [88, 92, 79],\n",
    "    \"city\": \"Lahore\",\n",
    "    \"hobbies\": [\"reading\", \"football\", \"gaming\"]\n",
    "}\n",
    "\n",
    "if \"height\" in random_dict:\n",
    "    print(\"Exists\")\n",
    "else:\n",
    "    print(\"Does Not Exist\")"
   ]
  },
  {
   "cell_type": "code",
   "execution_count": 8,
   "id": "f069ee85-8caa-423e-8fec-f022ee98c49e",
   "metadata": {},
   "outputs": [
    {
     "name": "stdout",
     "output_type": "stream",
     "text": [
      "Does Not Exist\n"
     ]
    }
   ],
   "source": [
    "random_dict = {\n",
    "    \"name\": \"John\",\n",
    "    \"age\": 28,\n",
    "    \"height\": 5.9,\n",
    "    \"is_student\": False,\n",
    "    \"grades\": [88, 92, 79],\n",
    "    \"city\": \"Lahore\",\n",
    "    \"hobbies\": [\"reading\", \"football\", \"gaming\"]\n",
    "}\n",
    "\n",
    "if \"balance\" in random_dict:\n",
    "    print(\"Exists\")\n",
    "else:\n",
    "    print(\"Does Not Exist\")"
   ]
  },
  {
   "cell_type": "code",
   "execution_count": null,
   "id": "74135947-6366-416e-a529-3968e3be7926",
   "metadata": {},
   "outputs": [],
   "source": []
  }
 ],
 "metadata": {
  "kernelspec": {
   "display_name": "Python 3 (ipykernel)",
   "language": "python",
   "name": "python3"
  },
  "language_info": {
   "codemirror_mode": {
    "name": "ipython",
    "version": 3
   },
   "file_extension": ".py",
   "mimetype": "text/x-python",
   "name": "python",
   "nbconvert_exporter": "python",
   "pygments_lexer": "ipython3",
   "version": "3.12.7"
  }
 },
 "nbformat": 4,
 "nbformat_minor": 5
}
