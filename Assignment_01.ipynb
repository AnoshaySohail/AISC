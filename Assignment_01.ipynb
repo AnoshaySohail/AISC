{
 "cells": [
  {
   "cell_type": "markdown",
   "id": "7a94c2af-2c9f-4fa4-bd7c-906ede0c8b97",
   "metadata": {},
   "source": [
    "# Python_Assignment_No # 01"
   ]
  },
  {
   "cell_type": "markdown",
   "id": "8a6e777b-d740-4570-be12-90bb8c9aed10",
   "metadata": {},
   "source": [
    "### 1. Write a Python program to print the following string in a specific format (see the output). ⬇"
   ]
  },
  {
   "cell_type": "raw",
   "id": "fc2a81a8-c1a1-45af-887f-70c115f126c2",
   "metadata": {},
   "source": [
    "Twinkle, twinkle, little star,\n",
    "\t    How I wonder what you are! \n",
    "        \tUp above the world so high,\n",
    "\t        Like a diamond in the sky.\n",
    "Twinkle, twinkle, little star,\n",
    "\t    How I wonder what you are"
   ]
  },
  {
   "cell_type": "code",
   "execution_count": 1,
   "id": "e00fb5aa-748d-4f9f-91f8-93294a8139eb",
   "metadata": {},
   "outputs": [
    {
     "name": "stdout",
     "output_type": "stream",
     "text": [
      "Twinkle, twinkle, little star,\n",
      "        How I wonder what you are! \n",
      "            Up above the world so high,\n",
      "            Like a diamond in the sky.\n",
      "Twinkle, twinkle, little star,\n",
      "        How I wonder what you are\n"
     ]
    }
   ],
   "source": [
    "print(\"\"\"Twinkle, twinkle, little star,\n",
    "        How I wonder what you are! \n",
    "            Up above the world so high,\n",
    "            Like a diamond in the sky.\n",
    "Twinkle, twinkle, little star,\n",
    "        How I wonder what you are\"\"\")"
   ]
  },
  {
   "cell_type": "code",
   "execution_count": 2,
   "id": "684ac6d5-b531-4268-9387-ec7cea4139ff",
   "metadata": {},
   "outputs": [
    {
     "name": "stdout",
     "output_type": "stream",
     "text": [
      "Twinkle, twinkle, little star, \n",
      " \tHow I wonder what you are! \n",
      " \t \tUp above the world so high, \n",
      " \t \tLike a diamond in the sky. \n",
      "Twinkle, twinkle, little star, \n",
      " \tHow I wonder what you are\n"
     ]
    }
   ],
   "source": [
    "print(\"Twinkle, twinkle, little star, \\n \\tHow I wonder what you are! \\n \\t \\tUp above the world so high, \\n \\t \\tLike a diamond in the sky. \\nTwinkle, twinkle, little star, \\n \\tHow I wonder what you are\")"
   ]
  },
  {
   "cell_type": "markdown",
   "id": "3ce8af36-9f42-4a11-b0f0-67a5e864ce85",
   "metadata": {},
   "source": [
    "### 2. Write a Python program to get the Python version you are using"
   ]
  },
  {
   "cell_type": "code",
   "execution_count": 3,
   "id": "ce2b887b-64e9-492f-903e-adb3d2878e93",
   "metadata": {},
   "outputs": [
    {
     "name": "stdout",
     "output_type": "stream",
     "text": [
      "3.12.7 | packaged by Anaconda, Inc. | (main, Oct  4 2024, 13:17:27) [MSC v.1929 64 bit (AMD64)]\n"
     ]
    }
   ],
   "source": [
    "import sys\n",
    "print(sys.version)"
   ]
  },
  {
   "cell_type": "markdown",
   "id": "c098c04b-2548-4304-830a-4cffbe7cea9e",
   "metadata": {},
   "source": [
    "### 3. Write a Python program to display the current date and time."
   ]
  },
  {
   "cell_type": "code",
   "execution_count": 4,
   "id": "a859e880-5bb5-4828-aa0b-7447c419bf0a",
   "metadata": {},
   "outputs": [
    {
     "name": "stdout",
     "output_type": "stream",
     "text": [
      "Current date and time: 2025-07-09 22:26:00.236037\n"
     ]
    }
   ],
   "source": [
    "import datetime\n",
    "present = datetime.datetime.now()\n",
    "print(\"Current date and time:\", present)"
   ]
  },
  {
   "cell_type": "markdown",
   "id": "5862ce86-1021-49e7-a491-07974afa1989",
   "metadata": {},
   "source": [
    "### 4. Write a Python program which accepts the radius of a circle from the user and compute the area."
   ]
  },
  {
   "cell_type": "code",
   "execution_count": 5,
   "id": "4974130a-9983-477d-9f5e-a7f826dfb6c2",
   "metadata": {},
   "outputs": [
    {
     "name": "stdin",
     "output_type": "stream",
     "text": [
      "Enter radius of circle:  15\n"
     ]
    },
    {
     "name": "stdout",
     "output_type": "stream",
     "text": [
      "Area of circle is: 706.85775\n"
     ]
    }
   ],
   "source": [
    "radius = float(input(\"Enter radius of circle: \"))\n",
    "area = 3.14159 * radius ** 2\n",
    "print(\"Area of circle is:\", area)"
   ]
  },
  {
   "cell_type": "markdown",
   "id": "79fc990b-caf9-4f3e-8cd8-8a2de7219177",
   "metadata": {},
   "source": [
    "### 5. Write a Python program which accepts the user's first and last name and print them in reverse order with a space between them."
   ]
  },
  {
   "cell_type": "code",
   "execution_count": 7,
   "id": "9cb06f53-7b45-4979-b53d-2c956db5bbf5",
   "metadata": {},
   "outputs": [
    {
     "name": "stdin",
     "output_type": "stream",
     "text": [
      "Enter first name:  Maria\n",
      "Enter last name:  Charles\n"
     ]
    },
    {
     "name": "stdout",
     "output_type": "stream",
     "text": [
      "Reversed: Charles Maria\n"
     ]
    }
   ],
   "source": [
    "fname = input(\"Enter first name: \")\n",
    "lname = input(\"Enter last name: \")\n",
    "print(\"Reversed:\", lname, fname)"
   ]
  },
  {
   "cell_type": "markdown",
   "id": "fc18b380-544b-44f5-b707-e279b4f22edd",
   "metadata": {},
   "source": [
    "### 6. Write a Python program which takes two inputs from user and print them addition"
   ]
  },
  {
   "cell_type": "code",
   "execution_count": 9,
   "id": "45f2f7dd-8048-4d26-b64f-ea682a83d90f",
   "metadata": {},
   "outputs": [
    {
     "name": "stdin",
     "output_type": "stream",
     "text": [
      "Enter first number:  33.5\n",
      "Enter second number:  5.25\n"
     ]
    },
    {
     "name": "stdout",
     "output_type": "stream",
     "text": [
      "Sum is: 38.75\n"
     ]
    }
   ],
   "source": [
    "a = float(input(\"Enter first number: \"))\n",
    "b = float(input(\"Enter second number: \"))\n",
    "print(\"Sum is:\", a + b)"
   ]
  },
  {
   "cell_type": "markdown",
   "id": "a080f271-a020-4b9c-9783-4b1e42c47e33",
   "metadata": {},
   "source": [
    "### 7. Write a Python program which takes 5 inputs from user for different subject's marks, total it and generate mark sheet using grades?"
   ]
  },
  {
   "cell_type": "code",
   "execution_count": 16,
   "id": "be11431f-52c0-4364-bf0d-8d5532c6f289",
   "metadata": {},
   "outputs": [
    {
     "name": "stdin",
     "output_type": "stream",
     "text": [
      "Enter marks for subject 1:  87\n",
      "Enter marks for subject 2:  98\n",
      "Enter marks for subject 3:  86\n",
      "Enter marks for subject 4:  69\n",
      "Enter marks for subject 5:  95\n"
     ]
    },
    {
     "name": "stdout",
     "output_type": "stream",
     "text": [
      "Total Marks: 435.0\n",
      "Percentage: 87.0\n",
      "Grade: A+\n"
     ]
    }
   ],
   "source": [
    "# using for loop for marks in 5 subjects\n",
    "total = 0\n",
    "for i in range(1, 6):\n",
    "    mark = float(input(f\"Enter marks for subject {i}: \")) #f-string\n",
    "    total += mark \n",
    "\n",
    "percentage = total / 500 * 100\n",
    "\n",
    "if percentage >= 80:\n",
    "    grade = \"A+\"\n",
    "elif percentage >= 70:\n",
    "    grade = \"A\"\n",
    "elif percentage >= 60:\n",
    "    grade = \"B\"\n",
    "elif percentage >= 50:\n",
    "    grade = \"C\"\n",
    "elif percentage >= 40:\n",
    "    grade = \"D\"\n",
    "elif percentage >= 33:\n",
    "    grade = \"E\"\n",
    "else:\n",
    "    grade = \"F\"\n",
    "\n",
    "print(f\"Total Marks: {total}\\nPercentage: {percentage}\\nGrade: {grade}\")"
   ]
  },
  {
   "cell_type": "markdown",
   "id": "1c736118-2fab-4f69-9474-603da05f7e0e",
   "metadata": {},
   "source": [
    "### 8. Write a Python program which take input from user and identify that the given number is even or odd?"
   ]
  },
  {
   "cell_type": "code",
   "execution_count": 11,
   "id": "b4882b43-4aa9-47f7-99f3-06ded4127a17",
   "metadata": {},
   "outputs": [
    {
     "name": "stdin",
     "output_type": "stream",
     "text": [
      "Enter a number:  57\n"
     ]
    },
    {
     "name": "stdout",
     "output_type": "stream",
     "text": [
      "Odd number\n"
     ]
    }
   ],
   "source": [
    "num = int(input(\"Enter a number: \"))\n",
    "if num % 2 == 0:\n",
    "    print(\"Even number\")\n",
    "else:\n",
    "    print(\"Odd number\")"
   ]
  },
  {
   "cell_type": "code",
   "execution_count": 12,
   "id": "2045690a-f178-4fa6-a3df-5e5da4de616d",
   "metadata": {},
   "outputs": [
    {
     "name": "stdin",
     "output_type": "stream",
     "text": [
      "Enter a number:  74\n"
     ]
    },
    {
     "name": "stdout",
     "output_type": "stream",
     "text": [
      "Even number\n"
     ]
    }
   ],
   "source": [
    "num = int(input(\"Enter a number: \"))\n",
    "if num % 2 == 0:\n",
    "    print(\"Even number\")\n",
    "else:\n",
    "    print(\"Odd number\")"
   ]
  },
  {
   "cell_type": "code",
   "execution_count": null,
   "id": "4694d4c9-2e63-4ff2-b140-28a8ad04b863",
   "metadata": {},
   "outputs": [],
   "source": []
  }
 ],
 "metadata": {
  "kernelspec": {
   "display_name": "Python 3 (ipykernel)",
   "language": "python",
   "name": "python3"
  },
  "language_info": {
   "codemirror_mode": {
    "name": "ipython",
    "version": 3
   },
   "file_extension": ".py",
   "mimetype": "text/x-python",
   "name": "python",
   "nbconvert_exporter": "python",
   "pygments_lexer": "ipython3",
   "version": "3.12.7"
  }
 },
 "nbformat": 4,
 "nbformat_minor": 5
}
